{
 "cells": [
  {
   "cell_type": "code",
   "execution_count": 1,
   "id": "38749e1b",
   "metadata": {
    "_cell_guid": "b1076dfc-b9ad-4769-8c92-a6c4dae69d19",
    "_uuid": "8f2839f25d086af736a60e9eeb907d3b93b6e0e5",
    "execution": {
     "iopub.execute_input": "2025-06-11T21:11:03.699289Z",
     "iopub.status.busy": "2025-06-11T21:11:03.698958Z",
     "iopub.status.idle": "2025-06-11T21:11:05.979435Z",
     "shell.execute_reply": "2025-06-11T21:11:05.978234Z"
    },
    "papermill": {
     "duration": 2.287238,
     "end_time": "2025-06-11T21:11:05.981125",
     "exception": false,
     "start_time": "2025-06-11T21:11:03.693887",
     "status": "completed"
    },
    "tags": []
   },
   "outputs": [
    {
     "name": "stdout",
     "output_type": "stream",
     "text": [
      "/kaggle/input/summer-analytics-mid-hackathon/hacktest.csv\n",
      "/kaggle/input/summer-analytics-mid-hackathon/hacktrain.csv\n"
     ]
    }
   ],
   "source": [
    "# This Python 3 environment comes with many helpful analytics libraries installed\n",
    "# It is defined by the kaggle/python Docker image: https://github.com/kaggle/docker-python\n",
    "# For example, here's several helpful packages to load\n",
    "\n",
    "import numpy as np # linear algebra\n",
    "import pandas as pd # data processing, CSV file I/O (e.g. pd.read_csv)\n",
    "\n",
    "# Input data files are available in the read-only \"../input/\" directory\n",
    "# For example, running this (by clicking run or pressing Shift+Enter) will list all files under the input directory\n",
    "\n",
    "import os\n",
    "for dirname, _, filenames in os.walk('/kaggle/input'):\n",
    "    for filename in filenames:\n",
    "        print(os.path.join(dirname, filename))\n",
    "\n",
    "# You can write up to 20GB to the current directory (/kaggle/working/) that gets preserved as output when you create a version using \"Save & Run All\" \n",
    "# You can also write temporary files to /kaggle/temp/, but they won't be saved outside of the current session"
   ]
  },
  {
   "cell_type": "code",
   "execution_count": 2,
   "id": "ff5da41c",
   "metadata": {
    "execution": {
     "iopub.execute_input": "2025-06-11T21:11:05.989873Z",
     "iopub.status.busy": "2025-06-11T21:11:05.989151Z",
     "iopub.status.idle": "2025-06-11T21:11:08.306678Z",
     "shell.execute_reply": "2025-06-11T21:11:08.305037Z"
    },
    "papermill": {
     "duration": 2.323702,
     "end_time": "2025-06-11T21:11:08.308591",
     "exception": false,
     "start_time": "2025-06-11T21:11:05.984889",
     "status": "completed"
    },
    "tags": []
   },
   "outputs": [],
   "source": [
    "import pandas as pd\n",
    "import numpy as np\n",
    "from sklearn.pipeline import Pipeline\n",
    "from sklearn.impute import SimpleImputer\n",
    "from sklearn.preprocessing import StandardScaler, LabelEncoder, PolynomialFeatures\n",
    "from sklearn.linear_model import LogisticRegression\n",
    "from sklearn.model_selection import StratifiedKFold, GridSearchCV"
   ]
  },
  {
   "cell_type": "code",
   "execution_count": 3,
   "id": "b46131c1",
   "metadata": {
    "execution": {
     "iopub.execute_input": "2025-06-11T21:11:08.316869Z",
     "iopub.status.busy": "2025-06-11T21:11:08.315979Z",
     "iopub.status.idle": "2025-06-11T21:11:08.415937Z",
     "shell.execute_reply": "2025-06-11T21:11:08.414725Z"
    },
    "papermill": {
     "duration": 0.10629,
     "end_time": "2025-06-11T21:11:08.418128",
     "exception": false,
     "start_time": "2025-06-11T21:11:08.311838",
     "status": "completed"
    },
    "tags": []
   },
   "outputs": [],
   "source": [
    "train_df = pd.read_csv('/kaggle/input/summer-analytics-mid-hackathon/hacktrain.csv')\n",
    "test_df = pd.read_csv('/kaggle/input/summer-analytics-mid-hackathon/hacktest.csv')"
   ]
  },
  {
   "cell_type": "code",
   "execution_count": 4,
   "id": "69f13509",
   "metadata": {
    "execution": {
     "iopub.execute_input": "2025-06-11T21:11:08.426754Z",
     "iopub.status.busy": "2025-06-11T21:11:08.425463Z",
     "iopub.status.idle": "2025-06-11T21:11:08.452238Z",
     "shell.execute_reply": "2025-06-11T21:11:08.450927Z"
    },
    "papermill": {
     "duration": 0.032877,
     "end_time": "2025-06-11T21:11:08.454305",
     "exception": false,
     "start_time": "2025-06-11T21:11:08.421428",
     "status": "completed"
    },
    "tags": []
   },
   "outputs": [],
   "source": [
    "X = train_df.drop(columns=['Unnamed: 0', 'ID', 'class'])\n",
    "y = train_df['class']"
   ]
  },
  {
   "cell_type": "code",
   "execution_count": 5,
   "id": "23b0755b",
   "metadata": {
    "execution": {
     "iopub.execute_input": "2025-06-11T21:11:08.462005Z",
     "iopub.status.busy": "2025-06-11T21:11:08.461675Z",
     "iopub.status.idle": "2025-06-11T21:11:08.469647Z",
     "shell.execute_reply": "2025-06-11T21:11:08.468238Z"
    },
    "papermill": {
     "duration": 0.014195,
     "end_time": "2025-06-11T21:11:08.471702",
     "exception": false,
     "start_time": "2025-06-11T21:11:08.457507",
     "status": "completed"
    },
    "tags": []
   },
   "outputs": [],
   "source": [
    "label_encoder = LabelEncoder()\n",
    "y_encoded = label_encoder.fit_transform(y)"
   ]
  },
  {
   "cell_type": "code",
   "execution_count": 6,
   "id": "e28c6140",
   "metadata": {
    "execution": {
     "iopub.execute_input": "2025-06-11T21:11:08.479547Z",
     "iopub.status.busy": "2025-06-11T21:11:08.479196Z",
     "iopub.status.idle": "2025-06-11T21:11:08.485485Z",
     "shell.execute_reply": "2025-06-11T21:11:08.484456Z"
    },
    "papermill": {
     "duration": 0.012385,
     "end_time": "2025-06-11T21:11:08.487337",
     "exception": false,
     "start_time": "2025-06-11T21:11:08.474952",
     "status": "completed"
    },
    "tags": []
   },
   "outputs": [],
   "source": [
    "X_test = test_df.drop(columns=['Unnamed: 0', 'ID'])\n",
    "test_ids = test_df['ID']"
   ]
  },
  {
   "cell_type": "code",
   "execution_count": 7,
   "id": "5817623b",
   "metadata": {
    "execution": {
     "iopub.execute_input": "2025-06-11T21:11:08.495019Z",
     "iopub.status.busy": "2025-06-11T21:11:08.494608Z",
     "iopub.status.idle": "2025-06-11T21:11:08.532472Z",
     "shell.execute_reply": "2025-06-11T21:11:08.531254Z"
    },
    "papermill": {
     "duration": 0.043915,
     "end_time": "2025-06-11T21:11:08.534355",
     "exception": false,
     "start_time": "2025-06-11T21:11:08.490440",
     "status": "completed"
    },
    "tags": []
   },
   "outputs": [
    {
     "name": "stderr",
     "output_type": "stream",
     "text": [
      "/usr/local/lib/python3.11/dist-packages/pandas/core/computation/expressions.py:73: RuntimeWarning: invalid value encountered in greater\n",
      "  return op(a, b)\n"
     ]
    }
   ],
   "source": [
    "corr_matrix = X.corr().abs()\n",
    "upper = corr_matrix.where(np.triu(np.ones(corr_matrix.shape), k=1).astype(bool))\n",
    "to_drop = [column for column in upper.columns if any(upper[column] > 0.95)]\n",
    "X = X.drop(columns=to_drop)\n",
    "X_test = X_test.drop(columns=to_drop)"
   ]
  },
  {
   "cell_type": "code",
   "execution_count": 8,
   "id": "d5f67c51",
   "metadata": {
    "execution": {
     "iopub.execute_input": "2025-06-11T21:11:08.542157Z",
     "iopub.status.busy": "2025-06-11T21:11:08.541833Z",
     "iopub.status.idle": "2025-06-11T21:11:08.547968Z",
     "shell.execute_reply": "2025-06-11T21:11:08.546602Z"
    },
    "papermill": {
     "duration": 0.01227,
     "end_time": "2025-06-11T21:11:08.549776",
     "exception": false,
     "start_time": "2025-06-11T21:11:08.537506",
     "status": "completed"
    },
    "tags": []
   },
   "outputs": [],
   "source": [
    "pipeline = Pipeline(steps=[\n",
    "    ('imputer', SimpleImputer(strategy='median')),\n",
    "    ('poly', PolynomialFeatures(degree=2, include_bias=False)),\n",
    "    ('scaler', StandardScaler()),\n",
    "    ('logreg', LogisticRegression(\n",
    "        penalty='l1', solver='saga', max_iter=7000, random_state=42))\n",
    "])"
   ]
  },
  {
   "cell_type": "code",
   "execution_count": 9,
   "id": "b0bad25b",
   "metadata": {
    "execution": {
     "iopub.execute_input": "2025-06-11T21:11:08.558156Z",
     "iopub.status.busy": "2025-06-11T21:11:08.557839Z",
     "iopub.status.idle": "2025-06-11T21:11:08.562829Z",
     "shell.execute_reply": "2025-06-11T21:11:08.561724Z"
    },
    "papermill": {
     "duration": 0.011087,
     "end_time": "2025-06-11T21:11:08.564528",
     "exception": false,
     "start_time": "2025-06-11T21:11:08.553441",
     "status": "completed"
    },
    "tags": []
   },
   "outputs": [],
   "source": [
    "param_grid = {\n",
    "    'logreg__C': [0.1, 0.5, 0.1, 5],\n",
    "    'logreg__class_weight': [None, 'balanced']\n",
    "}"
   ]
  },
  {
   "cell_type": "code",
   "execution_count": 10,
   "id": "15abb398",
   "metadata": {
    "execution": {
     "iopub.execute_input": "2025-06-11T21:11:08.572203Z",
     "iopub.status.busy": "2025-06-11T21:11:08.571885Z",
     "iopub.status.idle": "2025-06-12T01:23:22.202445Z",
     "shell.execute_reply": "2025-06-12T01:23:22.201356Z"
    },
    "papermill": {
     "duration": 15133.639369,
     "end_time": "2025-06-12T01:23:22.207085",
     "exception": false,
     "start_time": "2025-06-11T21:11:08.567716",
     "status": "completed"
    },
    "tags": []
   },
   "outputs": [
    {
     "name": "stderr",
     "output_type": "stream",
     "text": [
      "/usr/local/lib/python3.11/dist-packages/sklearn/linear_model/_sag.py:350: ConvergenceWarning: The max_iter was reached which means the coef_ did not converge\n",
      "  warnings.warn(\n",
      "/usr/local/lib/python3.11/dist-packages/sklearn/linear_model/_sag.py:350: ConvergenceWarning: The max_iter was reached which means the coef_ did not converge\n",
      "  warnings.warn(\n",
      "/usr/local/lib/python3.11/dist-packages/sklearn/linear_model/_sag.py:350: ConvergenceWarning: The max_iter was reached which means the coef_ did not converge\n",
      "  warnings.warn(\n",
      "/usr/local/lib/python3.11/dist-packages/sklearn/linear_model/_sag.py:350: ConvergenceWarning: The max_iter was reached which means the coef_ did not converge\n",
      "  warnings.warn(\n",
      "/usr/local/lib/python3.11/dist-packages/sklearn/linear_model/_sag.py:350: ConvergenceWarning: The max_iter was reached which means the coef_ did not converge\n",
      "  warnings.warn(\n",
      "/usr/local/lib/python3.11/dist-packages/sklearn/linear_model/_sag.py:350: ConvergenceWarning: The max_iter was reached which means the coef_ did not converge\n",
      "  warnings.warn(\n",
      "/usr/local/lib/python3.11/dist-packages/sklearn/linear_model/_sag.py:350: ConvergenceWarning: The max_iter was reached which means the coef_ did not converge\n",
      "  warnings.warn(\n",
      "/usr/local/lib/python3.11/dist-packages/sklearn/linear_model/_sag.py:350: ConvergenceWarning: The max_iter was reached which means the coef_ did not converge\n",
      "  warnings.warn(\n",
      "/usr/local/lib/python3.11/dist-packages/sklearn/linear_model/_sag.py:350: ConvergenceWarning: The max_iter was reached which means the coef_ did not converge\n",
      "  warnings.warn(\n",
      "/usr/local/lib/python3.11/dist-packages/sklearn/linear_model/_sag.py:350: ConvergenceWarning: The max_iter was reached which means the coef_ did not converge\n",
      "  warnings.warn(\n"
     ]
    },
    {
     "name": "stdout",
     "output_type": "stream",
     "text": [
      "Best cross-validation accuracy: 0.943375\n",
      "Best parameters: {'logreg__C': 0.5, 'logreg__class_weight': None}\n"
     ]
    }
   ],
   "source": [
    "cv = StratifiedKFold(n_splits=5, shuffle=True, random_state=42)\n",
    "\n",
    "grid = GridSearchCV(pipeline, param_grid, cv=cv, scoring='accuracy', n_jobs=-1)\n",
    "grid.fit(X, y_encoded)\n",
    "\n",
    "print(\"Best cross-validation accuracy:\", grid.best_score_)\n",
    "print(\"Best parameters:\", grid.best_params_)"
   ]
  },
  {
   "cell_type": "code",
   "execution_count": 11,
   "id": "b2a920f3",
   "metadata": {
    "execution": {
     "iopub.execute_input": "2025-06-12T01:23:22.216017Z",
     "iopub.status.busy": "2025-06-12T01:23:22.215216Z",
     "iopub.status.idle": "2025-06-12T01:23:22.339036Z",
     "shell.execute_reply": "2025-06-12T01:23:22.338048Z"
    },
    "papermill": {
     "duration": 0.130231,
     "end_time": "2025-06-12T01:23:22.340919",
     "exception": false,
     "start_time": "2025-06-12T01:23:22.210688",
     "status": "completed"
    },
    "tags": []
   },
   "outputs": [],
   "source": [
    "best_model = grid.best_estimator_\n",
    "test_preds_encoded = best_model.predict(X_test)\n",
    "test_preds = label_encoder.inverse_transform(test_preds_encoded)"
   ]
  },
  {
   "cell_type": "code",
   "execution_count": 12,
   "id": "1dc6fa78",
   "metadata": {
    "execution": {
     "iopub.execute_input": "2025-06-12T01:23:22.351405Z",
     "iopub.status.busy": "2025-06-12T01:23:22.350827Z",
     "iopub.status.idle": "2025-06-12T01:23:22.380693Z",
     "shell.execute_reply": "2025-06-12T01:23:22.379704Z"
    },
    "papermill": {
     "duration": 0.036858,
     "end_time": "2025-06-12T01:23:22.382265",
     "exception": false,
     "start_time": "2025-06-12T01:23:22.345407",
     "status": "completed"
    },
    "tags": []
   },
   "outputs": [
    {
     "name": "stdout",
     "output_type": "stream",
     "text": [
      "Submission file saved as submission.csv\n"
     ]
    }
   ],
   "source": [
    "submission = pd.DataFrame({\n",
    "    'ID': test_ids,\n",
    "    'class': test_preds\n",
    "})\n",
    "submission.to_csv('submission.csv', index=False)\n",
    "print(\"Submission file saved as submission.csv\")"
   ]
  },
  {
   "cell_type": "code",
   "execution_count": null,
   "id": "184ae963",
   "metadata": {
    "papermill": {
     "duration": 0.003306,
     "end_time": "2025-06-12T01:23:22.404414",
     "exception": false,
     "start_time": "2025-06-12T01:23:22.401108",
     "status": "completed"
    },
    "tags": []
   },
   "outputs": [],
   "source": []
  }
 ],
 "metadata": {
  "kaggle": {
   "accelerator": "none",
   "dataSources": [
    {
     "databundleVersionId": 12585144,
     "isSourceIdPinned": false,
     "sourceId": 104491,
     "sourceType": "competition"
    }
   ],
   "dockerImageVersionId": 31040,
   "isGpuEnabled": false,
   "isInternetEnabled": false,
   "language": "python",
   "sourceType": "notebook"
  },
  "kernelspec": {
   "display_name": "Python 3",
   "language": "python",
   "name": "python3"
  },
  "language_info": {
   "codemirror_mode": {
    "name": "ipython",
    "version": 3
   },
   "file_extension": ".py",
   "mimetype": "text/x-python",
   "name": "python",
   "nbconvert_exporter": "python",
   "pygments_lexer": "ipython3",
   "version": "3.11.11"
  },
  "papermill": {
   "default_parameters": {},
   "duration": 15148.660746,
   "end_time": "2025-06-12T01:23:25.042195",
   "environment_variables": {},
   "exception": null,
   "input_path": "__notebook__.ipynb",
   "output_path": "__notebook__.ipynb",
   "parameters": {},
   "start_time": "2025-06-11T21:10:56.381449",
   "version": "2.6.0"
  }
 },
 "nbformat": 4,
 "nbformat_minor": 5
}
